{
 "cells": [
  {
   "cell_type": "code",
   "execution_count": 82,
   "metadata": {},
   "outputs": [],
   "source": [
    "import pandas as pd\n",
    "import numpy as np\n",
    "import json\n",
    "import ollama\n",
    "\n",
    "# Load Configuration\n",
    "def load_config(config_path):\n",
    "    with open(config_path, \"r\") as file:\n",
    "        return json.load(file)\n",
    "\n",
    "# Create Date Column using last day of the month\n",
    "def create_date_column(df):\n",
    "    df[\"DATE\"] = pd.to_datetime(df[\"YEAR\"].astype(str) + \"-\" + df[\"MONTH\"].astype(str) + \"-01\") + pd.offsets.MonthEnd(0)\n",
    "    return df\n",
    "\n",
    "# Load and Preprocess Data\n",
    "def preprocess_data(data_path, kpi_column, groupby_columns=None):\n",
    "    df = pd.read_csv(data_path)\n",
    "    \n",
    "    if groupby_columns:\n",
    "        group_columns = [\"YEAR\", \"MONTH\"] + groupby_columns\n",
    "    else:\n",
    "        group_columns = [\"YEAR\", \"MONTH\"]\n",
    "    \n",
    "    df = df.groupby(group_columns).agg({kpi_column: \"sum\"}).reset_index()\n",
    "    df = create_date_column(df)\n",
    "    df.sort_values(\"DATE\", inplace=True)\n",
    "    return df\n",
    "\n",
    "# Descriptive Analysis\n",
    "def descriptive_analysis(df, kpi_column, config, groupby_columns=None):\n",
    "    threshold = config[\"kpi_threshold\"]\n",
    "    ratechange_threshold = config[\"ratechange_threshold\"]\n",
    "    \n",
    "    df[\"Above_Threshold\"] = df[kpi_column] > threshold\n",
    "    df[\"Rate_Change\"] = df[kpi_column].pct_change()\n",
    "    df[\"Rate_Above_Threshold\"] = df[\"Rate_Change\"] > ratechange_threshold\n",
    "    \n",
    "    latest_above_threshold = df[df[\"Above_Threshold\"]].sort_values(\"DATE\", ascending=False).iloc[0]\n",
    "    \n",
    "    summary = {\n",
    "        \"latest_period_above_threshold\": {\n",
    "            \"month\": latest_above_threshold[\"MONTH\"],\n",
    "            \"year\": latest_above_threshold[\"YEAR\"],\n",
    "            \"value\": latest_above_threshold[kpi_column]\n",
    "        },\n",
    "        \"current_vs_last_year\": df[kpi_column].pct_change(12).iloc[-1],\n",
    "        \"current_vs_last_month\": df[kpi_column].pct_change().iloc[-1],\n",
    "    }\n",
    "    \n",
    "    if groupby_columns:\n",
    "        top_values = df[df[\"Above_Threshold\"]][[\"MONTH\"] + groupby_columns + [kpi_column] + [\"DATE\"]]\n",
    "        top_values_sorted = top_values.sort_values(by=[\"DATE\", kpi_column], ascending=[False, False]).head(10)\n",
    "        summary[\"top_10_values_above_threshold\"] = top_values_sorted.to_dict(orient=\"records\")\n",
    "        \n",
    "        top_rate_changes = df[df[\"Rate_Above_Threshold\"]][[\"MONTH\"] + groupby_columns + [\"Rate_Change\"] + [\"DATE\"]]\n",
    "        top_rate_changes_sorted = top_rate_changes.sort_values(by=[\"DATE\", \"Rate_Change\"], ascending=[False, False]).head(10)\n",
    "        summary[\"top_10_ratechange_above_threshold\"] = top_rate_changes_sorted.to_dict(orient=\"records\")\n",
    "        \n",
    "        min_row = df.loc[df[kpi_column].idxmin()]\n",
    "        max_row = df.loc[df[kpi_column].idxmax()]\n",
    "        summary[\"min_value\"] = {\"value\": min_row[kpi_column], \"month\": min_row[\"MONTH\"], \"group\": {col: min_row[col] for col in groupby_columns}}\n",
    "        summary[\"max_value\"] = {\"value\": max_row[kpi_column], \"month\": max_row[\"MONTH\"], \"group\": {col: max_row[col] for col in groupby_columns}}\n",
    "    else:\n",
    "        summary[\"min_value\"] = df[kpi_column].min()\n",
    "        summary[\"max_value\"] = df[kpi_column].max()\n",
    "    \n",
    "    return summary\n",
    "\n"
   ]
  },
  {
   "cell_type": "code",
   "execution_count": 83,
   "metadata": {},
   "outputs": [],
   "source": [
    "def main(groupby_columns=None):\n",
    "    config = load_config(\"config.json\")\n",
    "    df = preprocess_data(\"Warehouse_and_Retail_Sales_enhanced.csv\", \"RETAIL SALES\", groupby_columns=groupby_columns)\n",
    "    result = descriptive_analysis(df, \"RETAIL SALES\", config, groupby_columns=groupby_columns)\n",
    "    return result"
   ]
  },
  {
   "cell_type": "code",
   "execution_count": 84,
   "metadata": {},
   "outputs": [],
   "source": [
    "config = load_config(\"config.json\")\n"
   ]
  },
  {
   "cell_type": "code",
   "execution_count": 85,
   "metadata": {},
   "outputs": [
    {
     "data": {
      "text/plain": [
       "{'kpi_threshold': 11668.35,\n",
       " 'ratechange_threshold': 0.1,\n",
       " 'time_period': '12 months',\n",
       " 'groupby_columns': ['SUPPLIER']}"
      ]
     },
     "execution_count": 85,
     "metadata": {},
     "output_type": "execute_result"
    }
   ],
   "source": [
    "config"
   ]
  },
  {
   "cell_type": "code",
   "execution_count": 86,
   "metadata": {},
   "outputs": [],
   "source": [
    "df = preprocess_data(\"Warehouse_and_Retail_Sales_enhanced.csv\", \"RETAIL SALES\", groupby_columns=[\"COUNTRY\"])\n"
   ]
  },
  {
   "cell_type": "code",
   "execution_count": 87,
   "metadata": {},
   "outputs": [
    {
     "data": {
      "text/html": [
       "<div>\n",
       "<style scoped>\n",
       "    .dataframe tbody tr th:only-of-type {\n",
       "        vertical-align: middle;\n",
       "    }\n",
       "\n",
       "    .dataframe tbody tr th {\n",
       "        vertical-align: top;\n",
       "    }\n",
       "\n",
       "    .dataframe thead th {\n",
       "        text-align: right;\n",
       "    }\n",
       "</style>\n",
       "<table border=\"1\" class=\"dataframe\">\n",
       "  <thead>\n",
       "    <tr style=\"text-align: right;\">\n",
       "      <th></th>\n",
       "      <th>YEAR</th>\n",
       "      <th>MONTH</th>\n",
       "      <th>COUNTRY</th>\n",
       "      <th>RETAIL SALES</th>\n",
       "      <th>DATE</th>\n",
       "    </tr>\n",
       "  </thead>\n",
       "  <tbody>\n",
       "    <tr>\n",
       "      <th>0</th>\n",
       "      <td>2017</td>\n",
       "      <td>6</td>\n",
       "      <td>Australia</td>\n",
       "      <td>11668.35</td>\n",
       "      <td>2017-06-30</td>\n",
       "    </tr>\n",
       "    <tr>\n",
       "      <th>1</th>\n",
       "      <td>2017</td>\n",
       "      <td>6</td>\n",
       "      <td>Canada</td>\n",
       "      <td>14606.15</td>\n",
       "      <td>2017-06-30</td>\n",
       "    </tr>\n",
       "    <tr>\n",
       "      <th>2</th>\n",
       "      <td>2017</td>\n",
       "      <td>6</td>\n",
       "      <td>France</td>\n",
       "      <td>10369.96</td>\n",
       "      <td>2017-06-30</td>\n",
       "    </tr>\n",
       "    <tr>\n",
       "      <th>3</th>\n",
       "      <td>2017</td>\n",
       "      <td>6</td>\n",
       "      <td>Germany</td>\n",
       "      <td>12020.38</td>\n",
       "      <td>2017-06-30</td>\n",
       "    </tr>\n",
       "    <tr>\n",
       "      <th>4</th>\n",
       "      <td>2017</td>\n",
       "      <td>6</td>\n",
       "      <td>Italy</td>\n",
       "      <td>10339.10</td>\n",
       "      <td>2017-06-30</td>\n",
       "    </tr>\n",
       "  </tbody>\n",
       "</table>\n",
       "</div>"
      ],
      "text/plain": [
       "   YEAR  MONTH    COUNTRY  RETAIL SALES       DATE\n",
       "0  2017      6  Australia      11668.35 2017-06-30\n",
       "1  2017      6     Canada      14606.15 2017-06-30\n",
       "2  2017      6     France      10369.96 2017-06-30\n",
       "3  2017      6    Germany      12020.38 2017-06-30\n",
       "4  2017      6      Italy      10339.10 2017-06-30"
      ]
     },
     "execution_count": 87,
     "metadata": {},
     "output_type": "execute_result"
    }
   ],
   "source": [
    "df.head()"
   ]
  },
  {
   "cell_type": "code",
   "execution_count": 88,
   "metadata": {},
   "outputs": [],
   "source": [
    "result = descriptive_analysis(df, \"RETAIL SALES\", config, groupby_columns=[\"COUNTRY\"])\n"
   ]
  },
  {
   "cell_type": "code",
   "execution_count": 89,
   "metadata": {},
   "outputs": [
    {
     "data": {
      "text/plain": [
       "{'latest_period_above_threshold': {'month': 7,\n",
       "  'year': 2020,\n",
       "  'value': 12842.94},\n",
       " 'current_vs_last_year': -0.08666522772102525,\n",
       " 'current_vs_last_month': 0.18326672490651696,\n",
       " 'top_10_values_above_threshold': [{'MONTH': 7,\n",
       "   'COUNTRY': 'UK',\n",
       "   'RETAIL SALES': 13552.92,\n",
       "   'DATE': Timestamp('2020-07-31 00:00:00')},\n",
       "  {'MONTH': 7,\n",
       "   'COUNTRY': 'USA',\n",
       "   'RETAIL SALES': 13485.74,\n",
       "   'DATE': Timestamp('2020-07-31 00:00:00')},\n",
       "  {'MONTH': 7,\n",
       "   'COUNTRY': 'Germany',\n",
       "   'RETAIL SALES': 12842.94,\n",
       "   'DATE': Timestamp('2020-07-31 00:00:00')},\n",
       "  {'MONTH': 7,\n",
       "   'COUNTRY': 'Italy',\n",
       "   'RETAIL SALES': 12694.48,\n",
       "   'DATE': Timestamp('2020-07-31 00:00:00')},\n",
       "  {'MONTH': 3,\n",
       "   'COUNTRY': 'Italy',\n",
       "   'RETAIL SALES': 15194.01,\n",
       "   'DATE': Timestamp('2020-03-31 00:00:00')},\n",
       "  {'MONTH': 3,\n",
       "   'COUNTRY': 'USA',\n",
       "   'RETAIL SALES': 15073.68,\n",
       "   'DATE': Timestamp('2020-03-31 00:00:00')},\n",
       "  {'MONTH': 3,\n",
       "   'COUNTRY': 'Germany',\n",
       "   'RETAIL SALES': 13940.82,\n",
       "   'DATE': Timestamp('2020-03-31 00:00:00')},\n",
       "  {'MONTH': 3,\n",
       "   'COUNTRY': 'Canada',\n",
       "   'RETAIL SALES': 13854.57,\n",
       "   'DATE': Timestamp('2020-03-31 00:00:00')},\n",
       "  {'MONTH': 3,\n",
       "   'COUNTRY': 'France',\n",
       "   'RETAIL SALES': 13449.56,\n",
       "   'DATE': Timestamp('2020-03-31 00:00:00')},\n",
       "  {'MONTH': 3,\n",
       "   'COUNTRY': 'Spain',\n",
       "   'RETAIL SALES': 12975.8,\n",
       "   'DATE': Timestamp('2020-03-31 00:00:00')}],\n",
       " 'top_10_ratechange_above_threshold': [{'MONTH': 9,\n",
       "   'COUNTRY': 'USA',\n",
       "   'Rate_Change': 0.18326672490651696,\n",
       "   'DATE': Timestamp('2020-09-30 00:00:00')},\n",
       "  {'MONTH': 9,\n",
       "   'COUNTRY': 'France',\n",
       "   'Rate_Change': 0.16849031494898714,\n",
       "   'DATE': Timestamp('2020-09-30 00:00:00')},\n",
       "  {'MONTH': 7,\n",
       "   'COUNTRY': 'Germany',\n",
       "   'Rate_Change': 0.33578587386577796,\n",
       "   'DATE': Timestamp('2020-07-31 00:00:00')},\n",
       "  {'MONTH': 7,\n",
       "   'COUNTRY': 'Italy',\n",
       "   'Rate_Change': 0.2540916477730193,\n",
       "   'DATE': Timestamp('2020-07-31 00:00:00')},\n",
       "  {'MONTH': 3,\n",
       "   'COUNTRY': 'Australia',\n",
       "   'Rate_Change': 0.23363874922927175,\n",
       "   'DATE': Timestamp('2020-03-31 00:00:00')},\n",
       "  {'MONTH': 3,\n",
       "   'COUNTRY': 'USA',\n",
       "   'Rate_Change': 0.2217260143848041,\n",
       "   'DATE': Timestamp('2020-03-31 00:00:00')},\n",
       "  {'MONTH': 3,\n",
       "   'COUNTRY': 'Canada',\n",
       "   'Rate_Change': 0.10089448963553727,\n",
       "   'DATE': Timestamp('2020-03-31 00:00:00')},\n",
       "  {'MONTH': 11,\n",
       "   'COUNTRY': 'Australia',\n",
       "   'Rate_Change': 0.3295579448600585,\n",
       "   'DATE': Timestamp('2019-11-30 00:00:00')},\n",
       "  {'MONTH': 11,\n",
       "   'COUNTRY': 'Germany',\n",
       "   'Rate_Change': 0.248946192278803,\n",
       "   'DATE': Timestamp('2019-11-30 00:00:00')},\n",
       "  {'MONTH': 10,\n",
       "   'COUNTRY': 'Italy',\n",
       "   'Rate_Change': 0.20951381789658874,\n",
       "   'DATE': Timestamp('2019-10-31 00:00:00')}],\n",
       " 'min_value': {'value': 8221.77, 'month': 4, 'group': {'COUNTRY': 'UK'}},\n",
       " 'max_value': {'value': 18900.04, 'month': 12, 'group': {'COUNTRY': 'Canada'}}}"
      ]
     },
     "execution_count": 89,
     "metadata": {},
     "output_type": "execute_result"
    }
   ],
   "source": [
    "groupby_columns = [\"COUNTRY\"]\n",
    "main(groupby_columns)"
   ]
  },
  {
   "cell_type": "code",
   "execution_count": 92,
   "metadata": {},
   "outputs": [],
   "source": [
    "# Generate Explanation using LLM\n",
    "def generate_explanation(result):\n",
    "    prompt = f\"Analyze the following KPI results and provide a business explanation with inferences: {result}\"\n",
    "    response = ollama.chat(model=\"llama3.2:1b\", messages=[{\"role\": \"user\", \"content\": prompt}])\n",
    "    return response[\"message\"][\"content\"]"
   ]
  },
  {
   "cell_type": "code",
   "execution_count": 94,
   "metadata": {},
   "outputs": [
    {
     "name": "stdout",
     "output_type": "stream",
     "text": [
      "Analyzing the provided Key Performance Indicator (KPI) results can provide valuable insights into business performance and potential areas for improvement.\n",
      "\n",
      "**Current Situation:**\n",
      "\n",
      "The KPIs indicate a slight decline in retail sales from the previous year, with a decrease of -0.08666522772102525 compared to 2020. This suggests that the company's sales have been impacted by various factors, including market conditions, competition, and seasonal fluctuations.\n",
      "\n",
      "**Breakdown of Key Performance Indicators:**\n",
      "\n",
      "1. **Latest Period Above Threshold:** The KPI shows that the current period (July 2023) is above the threshold for retail sales in July 2020 by a significant margin (-28% increase). This indicates that the company's sales have outperformed expectations.\n",
      "\n",
      "2. **Current vs Last Year:** The comparison between the current and last year reveals a slight decline, with a -0.08666522772102525 percentage point difference. This suggests that the company's sales have been impacted by market conditions, competition, or seasonal fluctuations.\n",
      "\n",
      "3. **Top 10 Values Above Threshold:** The report highlights several top-performing retail stores in July 2023, including those from UK, USA, Germany, Italy, and Canada. These countries tend to experience high demand for their products during summer months.\n",
      "\n",
      "4. **Current vs Last Month:** The KPI shows that the current period is above the threshold for the month of July 2020 by a significant margin (+18% increase). This indicates that the company's sales have been impacted by seasonal fluctuations, with higher sales expected in June and August.\n",
      "\n",
      "**Inferences:**\n",
      "\n",
      "Based on these KPI results, it can be inferred that:\n",
      "\n",
      "1. **Seasonality:** The decline in retail sales from July 2020 to July 2023 may be due to seasonal fluctuations, where demand for products such as summer clothing decreases during the winter months.\n",
      "2. **Market Conditions:** Market conditions, including competition and economic factors, may have also impacted the company's sales.\n",
      "3. **Product Demand:** The top-performing retail stores in July 2023 highlight a strong demand for certain products, indicating that these stores may have been able to capitalize on this demand during the current period.\n",
      "\n",
      "**Recommendations:**\n",
      "\n",
      "Based on the analysis of KPI results, it is essential to:\n",
      "\n",
      "1. **Monitor Seasonality:** Continuously monitor seasonal fluctuations to adjust sales strategies and product offerings accordingly.\n",
      "2. **Improve Market Conditions:** Analyze market conditions to identify areas for improvement and implement strategies to address competition and economic factors.\n",
      "3. **Optimize Product Demand:** Review product demand data to optimize product offerings and ensure that the company is meeting customer needs.\n",
      "\n",
      "By addressing these areas, the company can improve its sales performance and maintain a competitive edge in the market.\n"
     ]
    }
   ],
   "source": [
    "response = generate_explanation(result)\n",
    "print(response)"
   ]
  },
  {
   "cell_type": "code",
   "execution_count": null,
   "metadata": {},
   "outputs": [],
   "source": []
  }
 ],
 "metadata": {
  "kernelspec": {
   "display_name": "llm_env",
   "language": "python",
   "name": "python3"
  },
  "language_info": {
   "codemirror_mode": {
    "name": "ipython",
    "version": 3
   },
   "file_extension": ".py",
   "mimetype": "text/x-python",
   "name": "python",
   "nbconvert_exporter": "python",
   "pygments_lexer": "ipython3",
   "version": "3.9.18"
  }
 },
 "nbformat": 4,
 "nbformat_minor": 2
}
