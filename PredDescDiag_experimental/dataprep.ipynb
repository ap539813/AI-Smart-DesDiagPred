{
 "cells": [
  {
   "cell_type": "code",
   "execution_count": 1,
   "metadata": {},
   "outputs": [],
   "source": [
    "import random\n",
    "\n",
    "import pandas as pd\n",
    "\n",
    "# Load the dataset\n",
    "file_path = \"Warehouse_and_Retail_Sales.csv\"\n",
    "df = pd.read_csv(file_path)\n",
    "\n",
    "# Display first few rows to understand the structure\n",
    "df.head()\n",
    "\n",
    "\n",
    "# Define synthetic categorical columns\n",
    "\n",
    "# 1. Assign random countries from a predefined list\n",
    "countries = [\"USA\", \"Canada\", \"UK\", \"Germany\", \"France\", \"Italy\", \"Spain\", \"Australia\"]\n",
    "df[\"COUNTRY\"] = random.choices(countries, k=len(df))\n",
    "\n",
    "# 2. Assign random managers from a predefined list\n",
    "managers = [\"John Doe\", \"Jane Smith\", \"Robert Brown\", \"Emily White\", \"Michael Johnson\"]\n",
    "df[\"MANAGER\"] = random.choices(managers, k=len(df))\n",
    "\n",
    "# 3. Assign a region based on the country (Grouping countries into regions)\n",
    "region_mapping = {\n",
    "    \"USA\": \"North America\",\n",
    "    \"Canada\": \"North America\",\n",
    "    \"UK\": \"Europe\",\n",
    "    \"Germany\": \"Europe\",\n",
    "    \"France\": \"Europe\",\n",
    "    \"Italy\": \"Europe\",\n",
    "    \"Spain\": \"Europe\",\n",
    "    \"Australia\": \"Oceania\",\n",
    "}\n",
    "\n",
    "df[\"REGION\"] = df[\"COUNTRY\"].map(region_mapping)\n",
    "\n",
    "df.to_csv(\"Warehouse_and_Retail_Sales_enhanced.csv\", index=False)\n"
   ]
  },
  {
   "cell_type": "code",
   "execution_count": null,
   "metadata": {},
   "outputs": [],
   "source": []
  }
 ],
 "metadata": {
  "kernelspec": {
   "display_name": "llm_env",
   "language": "python",
   "name": "python3"
  },
  "language_info": {
   "codemirror_mode": {
    "name": "ipython",
    "version": 3
   },
   "file_extension": ".py",
   "mimetype": "text/x-python",
   "name": "python",
   "nbconvert_exporter": "python",
   "pygments_lexer": "ipython3",
   "version": "3.9.18"
  }
 },
 "nbformat": 4,
 "nbformat_minor": 2
}
